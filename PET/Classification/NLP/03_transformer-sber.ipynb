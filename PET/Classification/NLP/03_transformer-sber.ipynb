{
 "cells": [
  {
   "cell_type": "markdown",
   "metadata": {
    "_cell_guid": "b1076dfc-b9ad-4769-8c92-a6c4dae69d19",
    "_uuid": "8f2839f25d086af736a60e9eeb907d3b93b6e0e5",
    "execution": {
     "iopub.execute_input": "2022-06-15T08:37:52.773545Z",
     "iopub.status.busy": "2022-06-15T08:37:52.772877Z",
     "iopub.status.idle": "2022-06-15T08:37:52.777293Z",
     "shell.execute_reply": "2022-06-15T08:37:52.776534Z",
     "shell.execute_reply.started": "2022-06-15T08:37:52.773503Z"
    }
   },
   "source": [
    "# Transformer-Sber\n",
    "\n",
    "Просто взял другую модель, и результат улучшился.\n",
    "Модель [sberbank-ai/sbert_large_nlu_ru](https://huggingface.co/sberbank-ai/sbert_large_nlu_ru)\n",
    "\n",
    "Best"
   ]
  },
  {
   "cell_type": "markdown",
   "metadata": {},
   "source": [
    "## Настройки, импорты, установка"
   ]
  },
  {
   "cell_type": "code",
   "execution_count": null,
   "metadata": {
    "execution": {
     "iopub.execute_input": "2022-06-16T16:39:42.704035Z",
     "iopub.status.busy": "2022-06-16T16:39:42.703155Z",
     "iopub.status.idle": "2022-06-16T16:39:54.224759Z",
     "shell.execute_reply": "2022-06-16T16:39:54.223693Z",
     "shell.execute_reply.started": "2022-06-16T16:39:42.703525Z"
    }
   },
   "outputs": [],
   "source": [
    "!pip install transformers"
   ]
  },
  {
   "cell_type": "code",
   "execution_count": null,
   "metadata": {
    "execution": {
     "iopub.execute_input": "2022-06-16T16:39:55.010732Z",
     "iopub.status.busy": "2022-06-16T16:39:55.009981Z",
     "iopub.status.idle": "2022-06-16T16:39:55.828344Z",
     "shell.execute_reply": "2022-06-16T16:39:55.827076Z",
     "shell.execute_reply.started": "2022-06-16T16:39:55.010683Z"
    }
   },
   "outputs": [],
   "source": [
    "!nvidia-smi -L"
   ]
  },
  {
   "cell_type": "code",
   "execution_count": null,
   "metadata": {
    "execution": {
     "iopub.execute_input": "2022-06-16T16:40:00.68295Z",
     "iopub.status.busy": "2022-06-16T16:40:00.682226Z",
     "iopub.status.idle": "2022-06-16T16:40:07.958366Z",
     "shell.execute_reply": "2022-06-16T16:40:07.957461Z",
     "shell.execute_reply.started": "2022-06-16T16:40:00.682906Z"
    }
   },
   "outputs": [],
   "source": [
    "# For data manipulation\n",
    "import numpy as np\n",
    "import pandas as pd\n",
    "\n",
    "from sklearn.model_selection import train_test_split\n",
    "from sklearn.preprocessing import LabelEncoder\n",
    "\n",
    "import matplotlib.pyplot as plt\n",
    "from pylab import rcParams\n",
    "\n",
    "rcParams['figure.figsize'] = 10, 5\n",
    "\n",
    "%config InlineBackend.figure_format = 'svg' \n",
    "%matplotlib inline\n",
    "\n",
    "import torch\n",
    "import torch.nn as nn\n",
    "\n",
    "# For Transformer Models\n",
    "from transformers import AutoTokenizer, AutoModelForSequenceClassification, DataCollatorForLanguageModeling, Trainer, TrainingArguments"
   ]
  },
  {
   "cell_type": "code",
   "execution_count": null,
   "metadata": {
    "execution": {
     "iopub.execute_input": "2022-06-16T16:40:07.960586Z",
     "iopub.status.busy": "2022-06-16T16:40:07.960019Z",
     "iopub.status.idle": "2022-06-16T16:40:07.964768Z",
     "shell.execute_reply": "2022-06-16T16:40:07.964056Z",
     "shell.execute_reply.started": "2022-06-16T16:40:07.96054Z"
    }
   },
   "outputs": [],
   "source": [
    "MODEL_NAME = \"sberbank-ai/sbert_large_nlu_ru\"\n",
    "DATA_PATH = '/kaggle/input/scan-classification-challange/'\n",
    "RANDOM_STATE = 42\n",
    "MODEL_PATH = 'sb_model.h5'\n",
    "\n",
    "BATCH_SIZE = 32\n",
    "NUM_WORKERS = 2\n",
    "MAX_LEN = 100\n",
    "NUM_EPOCHS = 1"
   ]
  },
  {
   "cell_type": "markdown",
   "metadata": {},
   "source": [
    "## Загрузка и первичный анализ данных"
   ]
  },
  {
   "cell_type": "code",
   "execution_count": null,
   "metadata": {
    "execution": {
     "iopub.execute_input": "2022-06-16T16:40:07.966527Z",
     "iopub.status.busy": "2022-06-16T16:40:07.966046Z",
     "iopub.status.idle": "2022-06-16T16:40:08.616823Z",
     "shell.execute_reply": "2022-06-16T16:40:08.616062Z",
     "shell.execute_reply.started": "2022-06-16T16:40:07.966489Z"
    }
   },
   "outputs": [],
   "source": [
    "train = pd.read_csv(DATA_PATH+'df_train.csv',)\n",
    "train.head(20)"
   ]
  },
  {
   "cell_type": "code",
   "execution_count": null,
   "metadata": {
    "execution": {
     "iopub.execute_input": "2022-06-16T16:40:08.619315Z",
     "iopub.status.busy": "2022-06-16T16:40:08.618956Z",
     "iopub.status.idle": "2022-06-16T16:40:08.998213Z",
     "shell.execute_reply": "2022-06-16T16:40:08.997426Z",
     "shell.execute_reply.started": "2022-06-16T16:40:08.619279Z"
    }
   },
   "outputs": [],
   "source": [
    "test = pd.read_csv(DATA_PATH+'df_test.csv',)\n",
    "test.head()"
   ]
  },
  {
   "cell_type": "code",
   "execution_count": null,
   "metadata": {
    "execution": {
     "iopub.execute_input": "2022-06-16T16:40:09.00004Z",
     "iopub.status.busy": "2022-06-16T16:40:08.999683Z",
     "iopub.status.idle": "2022-06-16T16:40:09.643278Z",
     "shell.execute_reply": "2022-06-16T16:40:09.642377Z",
     "shell.execute_reply.started": "2022-06-16T16:40:09.000002Z"
    }
   },
   "outputs": [],
   "source": [
    "train[\"class\"].value_counts()[2:].plot(kind='bar',figsize=(12,4),fontsize=10)\n",
    "plt.xlabel(\"Class\",fontsize=10)\n",
    "plt.ylabel(\"Counts\",fontsize=10);"
   ]
  },
  {
   "cell_type": "markdown",
   "metadata": {},
   "source": [
    "## Разбиение на трайн и валидацию, кодирование меток LabelEncoder"
   ]
  },
  {
   "cell_type": "code",
   "execution_count": null,
   "metadata": {
    "execution": {
     "iopub.execute_input": "2022-06-16T16:40:09.644737Z",
     "iopub.status.busy": "2022-06-16T16:40:09.644356Z",
     "iopub.status.idle": "2022-06-16T16:40:09.675519Z",
     "shell.execute_reply": "2022-06-16T16:40:09.674756Z",
     "shell.execute_reply.started": "2022-06-16T16:40:09.644701Z"
    }
   },
   "outputs": [],
   "source": [
    "label_encoder = LabelEncoder()\n",
    "train[\"label\"] = label_encoder.fit_transform(train[\"class\"])\n",
    "train.drop([\"class\"], inplace=True, axis=1)"
   ]
  },
  {
   "cell_type": "code",
   "execution_count": null,
   "metadata": {
    "execution": {
     "iopub.execute_input": "2022-06-16T16:40:10.152826Z",
     "iopub.status.busy": "2022-06-16T16:40:10.152242Z",
     "iopub.status.idle": "2022-06-16T16:40:10.156633Z",
     "shell.execute_reply": "2022-06-16T16:40:10.155864Z",
     "shell.execute_reply.started": "2022-06-16T16:40:10.152786Z"
    }
   },
   "outputs": [],
   "source": [
    "# train, validation = train_test_split(train, random_state=RANDOM_STATE, test_size=0.2, stratify = train['label'])"
   ]
  },
  {
   "cell_type": "markdown",
   "metadata": {},
   "source": [
    "## Подготовим текст для обучения сетей. Токенизация"
   ]
  },
  {
   "cell_type": "code",
   "execution_count": null,
   "metadata": {
    "execution": {
     "iopub.execute_input": "2022-06-16T16:40:10.997901Z",
     "iopub.status.busy": "2022-06-16T16:40:10.997254Z",
     "iopub.status.idle": "2022-06-16T16:40:11.006869Z",
     "shell.execute_reply": "2022-06-16T16:40:11.005788Z",
     "shell.execute_reply.started": "2022-06-16T16:40:10.997864Z"
    }
   },
   "outputs": [],
   "source": [
    "class Dataset:\n",
    "    def __init__(self, text, target, tokenizer, max_len, num_labels):\n",
    "        self.text = text\n",
    "        self.target = target\n",
    "        self.tokenizer = tokenizer\n",
    "        self.max_len = max_len\n",
    "\n",
    "\n",
    "    def __len__(self):\n",
    "        return len(self.text)\n",
    "\n",
    "    def __getitem__(self, item):\n",
    "        text = str(self.text[item])\n",
    "        inputs = self.tokenizer(\n",
    "            text, \n",
    "            max_length=self.max_len, \n",
    "            padding=\"max_length\", \n",
    "            truncation=True\n",
    "        )\n",
    "\n",
    "        ids = inputs[\"input_ids\"]\n",
    "        mask = inputs[\"attention_mask\"]\n",
    "#         target = np.eye(self.num_labels, dtype='uint8')[self.target[item]]\n",
    "        return {\n",
    "            \"input_ids\": torch.tensor(ids, dtype=torch.long),\n",
    "            \"attention_mask\": torch.tensor(mask, dtype=torch.long),\n",
    "            \"labels\": torch.tensor(self.target[item], dtype=torch.long)\n",
    "        }"
   ]
  },
  {
   "cell_type": "code",
   "execution_count": null,
   "metadata": {
    "execution": {
     "iopub.execute_input": "2022-06-16T16:40:14.413015Z",
     "iopub.status.busy": "2022-06-16T16:40:14.412353Z",
     "iopub.status.idle": "2022-06-16T16:40:16.445067Z",
     "shell.execute_reply": "2022-06-16T16:40:16.444199Z",
     "shell.execute_reply.started": "2022-06-16T16:40:14.412978Z"
    }
   },
   "outputs": [],
   "source": [
    "tokenizer = AutoTokenizer.from_pretrained(MODEL_NAME)\n",
    "\n",
    "train_dataset = Dataset(\n",
    "    text=train.text.values, \n",
    "    target=train.label.values, \n",
    "    tokenizer=tokenizer, \n",
    "    max_len=MAX_LEN,\n",
    "    num_labels=len(label_encoder.classes_)\n",
    ")\n",
    "\n",
    "train_data_loader = torch.utils.data.DataLoader(\n",
    "    train_dataset, \n",
    "    batch_size=BATCH_SIZE\n",
    ")\n",
    "\n",
    "# valid_dataset = Dataset(\n",
    "#     text=validation.text.values, \n",
    "#     target=validation.label.values, \n",
    "#     tokenizer=tokenizer, \n",
    "#     max_len=MAX_LEN,\n",
    "#     num_labels=len(label_encoder.classes_)\n",
    "# )\n",
    "\n",
    "# valid_data_loader = torch.utils.data.DataLoader(\n",
    "#     valid_dataset, \n",
    "#     batch_size=BATCH_SIZE\n",
    "# )\n",
    "\n",
    "test_dataset = Dataset(\n",
    "    text=test.text.values, \n",
    "    target=np.zeros(test.shape[0]),\n",
    "    tokenizer=tokenizer, \n",
    "    max_len=MAX_LEN,\n",
    "    num_labels=len(label_encoder.classes_)\n",
    ")\n",
    "\n",
    "test_data_loader = torch.utils.data.DataLoader(\n",
    "    test_dataset, \n",
    "    batch_size=BATCH_SIZE\n",
    ")\n",
    "\n",
    "data_collator = DataCollatorForLanguageModeling(\n",
    "    tokenizer=tokenizer);\n"
   ]
  },
  {
   "cell_type": "code",
   "execution_count": null,
   "metadata": {
    "execution": {
     "iopub.execute_input": "2022-06-16T16:40:16.447048Z",
     "iopub.status.busy": "2022-06-16T16:40:16.446586Z",
     "iopub.status.idle": "2022-06-16T16:40:16.478262Z",
     "shell.execute_reply": "2022-06-16T16:40:16.477337Z",
     "shell.execute_reply.started": "2022-06-16T16:40:16.44701Z"
    }
   },
   "outputs": [],
   "source": [
    "for batch in test_data_loader:\n",
    "    break\n",
    "{k: v.shape for k, v in batch.items()}"
   ]
  },
  {
   "cell_type": "markdown",
   "metadata": {},
   "source": [
    "## Обучим модель на тренировочном наборе"
   ]
  },
  {
   "cell_type": "code",
   "execution_count": null,
   "metadata": {
    "execution": {
     "iopub.execute_input": "2022-06-16T16:40:20.349292Z",
     "iopub.status.busy": "2022-06-16T16:40:20.348357Z",
     "iopub.status.idle": "2022-06-16T16:41:21.828897Z",
     "shell.execute_reply": "2022-06-16T16:41:21.828042Z",
     "shell.execute_reply.started": "2022-06-16T16:40:20.34924Z"
    }
   },
   "outputs": [],
   "source": [
    "model = AutoModelForSequenceClassification.from_pretrained(MODEL_NAME, num_labels=len(label_encoder.classes_))"
   ]
  },
  {
   "cell_type": "code",
   "execution_count": null,
   "metadata": {
    "execution": {
     "iopub.execute_input": "2022-06-16T16:41:21.831459Z",
     "iopub.status.busy": "2022-06-16T16:41:21.831012Z",
     "iopub.status.idle": "2022-06-16T16:41:21.846532Z",
     "shell.execute_reply": "2022-06-16T16:41:21.845652Z",
     "shell.execute_reply.started": "2022-06-16T16:41:21.831416Z"
    }
   },
   "outputs": [],
   "source": [
    "from transformers import AdamW\n",
    "\n",
    "optimizer = AdamW(model.parameters(), lr=5e-5)"
   ]
  },
  {
   "cell_type": "code",
   "execution_count": null,
   "metadata": {
    "execution": {
     "iopub.execute_input": "2022-06-16T16:41:21.84854Z",
     "iopub.status.busy": "2022-06-16T16:41:21.847984Z",
     "iopub.status.idle": "2022-06-16T16:41:22.480159Z",
     "shell.execute_reply": "2022-06-16T16:41:22.478732Z",
     "shell.execute_reply.started": "2022-06-16T16:41:21.848499Z"
    }
   },
   "outputs": [],
   "source": [
    "from transformers import get_scheduler\n",
    "\n",
    "num_training_steps = NUM_EPOCHS * len(train_data_loader)\n",
    "lr_scheduler = get_scheduler(\n",
    "    \"linear\",\n",
    "    optimizer=optimizer,\n",
    "    num_warmup_steps=0,\n",
    "    num_training_steps=num_training_steps,\n",
    ")\n",
    "print(num_training_steps)"
   ]
  },
  {
   "cell_type": "code",
   "execution_count": null,
   "metadata": {
    "execution": {
     "iopub.execute_input": "2022-06-16T16:41:22.482431Z",
     "iopub.status.busy": "2022-06-16T16:41:22.481776Z",
     "iopub.status.idle": "2022-06-16T16:41:28.090291Z",
     "shell.execute_reply": "2022-06-16T16:41:28.089407Z",
     "shell.execute_reply.started": "2022-06-16T16:41:22.482392Z"
    }
   },
   "outputs": [],
   "source": [
    "device = torch.device(\"cuda\") if torch.cuda.is_available() else torch.device(\"cpu\")\n",
    "model.to(device)\n",
    "device"
   ]
  },
  {
   "cell_type": "code",
   "execution_count": null,
   "metadata": {
    "execution": {
     "iopub.execute_input": "2022-06-16T16:41:28.092201Z",
     "iopub.status.busy": "2022-06-16T16:41:28.091776Z",
     "iopub.status.idle": "2022-06-16T16:48:49.486853Z",
     "shell.execute_reply": "2022-06-16T16:48:49.485467Z",
     "shell.execute_reply.started": "2022-06-16T16:41:28.092158Z"
    }
   },
   "outputs": [],
   "source": [
    "from tqdm.auto import tqdm\n",
    "\n",
    "progress_bar = tqdm(range(num_training_steps))\n",
    "\n",
    "model.train()\n",
    "for epoch in range(NUM_EPOCHS):\n",
    "    for batch in train_data_loader:\n",
    "        batch = {k: v.to(device) for k, v in batch.items()}\n",
    "        outputs = model(**batch)\n",
    "        loss = outputs.loss\n",
    "        loss.backward()\n",
    "\n",
    "        optimizer.step()\n",
    "        lr_scheduler.step()\n",
    "        optimizer.zero_grad()\n",
    "        progress_bar.update(1)"
   ]
  },
  {
   "cell_type": "code",
   "execution_count": null,
   "metadata": {
    "_kg_hide-output": true,
    "execution": {
     "iopub.execute_input": "2022-06-16T12:28:14.219063Z",
     "iopub.status.busy": "2022-06-16T12:28:14.218171Z",
     "iopub.status.idle": "2022-06-16T12:30:09.113331Z",
     "shell.execute_reply": "2022-06-16T12:30:09.112518Z",
     "shell.execute_reply.started": "2022-06-16T12:28:14.219022Z"
    }
   },
   "outputs": [],
   "source": [
    "model.eval()\n",
    "result = []\n",
    "for i,batch in enumerate(test_data_loader):\n",
    "    batch = {k: v.to(device) for k, v in batch.items()}\n",
    "    with torch.no_grad():\n",
    "        outputs = model(**batch)\n",
    "\n",
    "    logits = outputs.logits\n",
    "    predictions = torch.argmax(logits, dim=-1)\n",
    "    result.append(predictions)\n",
    "    \n"
   ]
  },
  {
   "cell_type": "code",
   "execution_count": null,
   "metadata": {
    "execution": {
     "iopub.execute_input": "2022-06-16T12:31:54.513299Z",
     "iopub.status.busy": "2022-06-16T12:31:54.512939Z",
     "iopub.status.idle": "2022-06-16T12:31:54.519499Z",
     "shell.execute_reply": "2022-06-16T12:31:54.518738Z",
     "shell.execute_reply.started": "2022-06-16T12:31:54.513272Z"
    }
   },
   "outputs": [],
   "source": [
    "predictions = torch.cat(result,0)"
   ]
  },
  {
   "cell_type": "code",
   "execution_count": null,
   "metadata": {
    "execution": {
     "iopub.execute_input": "2022-06-16T12:35:24.343481Z",
     "iopub.status.busy": "2022-06-16T12:35:24.342921Z",
     "iopub.status.idle": "2022-06-16T12:35:24.35158Z",
     "shell.execute_reply": "2022-06-16T12:35:24.350658Z",
     "shell.execute_reply.started": "2022-06-16T12:35:24.343448Z"
    }
   },
   "outputs": [],
   "source": [
    "test[\"predictions\"] = label_encoder.inverse_transform(predictions.cpu().numpy())"
   ]
  },
  {
   "cell_type": "code",
   "execution_count": null,
   "metadata": {
    "execution": {
     "iopub.execute_input": "2022-06-16T12:35:24.633304Z",
     "iopub.status.busy": "2022-06-16T12:35:24.633019Z",
     "iopub.status.idle": "2022-06-16T12:35:24.647313Z",
     "shell.execute_reply": "2022-06-16T12:35:24.646604Z",
     "shell.execute_reply.started": "2022-06-16T12:35:24.633279Z"
    }
   },
   "outputs": [],
   "source": [
    "test"
   ]
  },
  {
   "cell_type": "code",
   "execution_count": null,
   "metadata": {
    "execution": {
     "iopub.execute_input": "2022-06-16T12:35:25.249703Z",
     "iopub.status.busy": "2022-06-16T12:35:25.249376Z",
     "iopub.status.idle": "2022-06-16T12:35:25.327222Z",
     "shell.execute_reply": "2022-06-16T12:35:25.326529Z",
     "shell.execute_reply.started": "2022-06-16T12:35:25.249675Z"
    }
   },
   "outputs": [],
   "source": [
    "submission = pd.DataFrame({'id':range(len(test)),\n",
    "                           'class':test['predictions'].values},\n",
    "                          columns=['id', 'class'])\n",
    "submission.to_csv('submission.csv', index=False)\n",
    "submission.head()"
   ]
  },
  {
   "cell_type": "code",
   "execution_count": null,
   "metadata": {},
   "outputs": [],
   "source": [
    "torch.save(model.state_dict(), MODEL_PATH)"
   ]
  }
 ],
 "metadata": {
  "kernelspec": {
   "display_name": "Python 3 (ipykernel)",
   "language": "python",
   "name": "python3"
  },
  "language_info": {
   "codemirror_mode": {
    "name": "ipython",
    "version": 3
   },
   "file_extension": ".py",
   "mimetype": "text/x-python",
   "name": "python",
   "nbconvert_exporter": "python",
   "pygments_lexer": "ipython3",
   "version": "3.11.4"
  }
 },
 "nbformat": 4,
 "nbformat_minor": 4
}
